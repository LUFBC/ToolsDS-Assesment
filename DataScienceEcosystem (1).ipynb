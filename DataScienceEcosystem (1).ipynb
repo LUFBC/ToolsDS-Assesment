{
 "cells": [
  {
   "cell_type": "markdown",
   "id": "f04214df-07db-4173-9c13-81aefb1de56a",
   "metadata": {
    "tags": []
   },
   "source": [
    "# Data Science Tools and Ecosystem\n"
   ]
  },
  {
   "cell_type": "markdown",
   "id": "76301257-4ebb-49db-9b00-3c83d6252f6f",
   "metadata": {},
   "source": [
    "In this notebook, Data Science Tools and Ecosystem are summarized."
   ]
  },
  {
   "cell_type": "markdown",
   "id": "cb216b82-21b9-4dcc-ad88-fc6f2f569c88",
   "metadata": {},
   "source": [
    "**Objectives:**\n",
    "* Popular languages for Data Science\n",
    "* Commonly used libraries in Data Science\n",
    "* Some well known open source Data Science Tools\n",
    "* Few examples of arithmetic expressions in Python"
   ]
  },
  {
   "cell_type": "markdown",
   "id": "8d8d14f6-5053-48cb-918c-04e80a7d4aa1",
   "metadata": {
    "tags": []
   },
   "source": [
    "Some of the popular languages that are used by Data Scientist are:\n",
    "1. Python\n",
    "2. R\n",
    "3. SQL\n",
    "4. Java\n",
    "5. Julia\n"
   ]
  },
  {
   "cell_type": "markdown",
   "id": "e009af1b-bcdc-4a1c-be4c-a99133299551",
   "metadata": {},
   "source": [
    "Some of the most common libraries used in Data Science include:\n",
    "1. TensorFlow\n",
    "2. NumPy\n",
    "3. SciPy\n",
    "4. Pandas\n",
    "5. Matplotlib\n",
    "6. Keras\n",
    "7. SciKit-Learn"
   ]
  },
  {
   "cell_type": "markdown",
   "id": "279a6472-3cd2-4a00-a331-762abc05c88b",
   "metadata": {},
   "source": [
    "|Data Science Tools|\n",
    "|-|\n",
    "|KNIME|\n",
    "|Spyder|\n",
    "|Apache Spark|\n",
    "|RStudio|\n",
    "\n",
    "\n"
   ]
  },
  {
   "cell_type": "markdown",
   "id": "a4e51f33-f66f-4dfa-8cb4-a7d25848d23f",
   "metadata": {},
   "source": [
    "### Below are a few examples of evaluating arithmetic expressions in Python"
   ]
  },
  {
   "cell_type": "code",
   "execution_count": 3,
   "id": "8a756776-5988-4cd3-985b-7655bf62ebfc",
   "metadata": {
    "tags": []
   },
   "outputs": [
    {
     "data": {
      "text/plain": [
       "17"
      ]
     },
     "execution_count": 3,
     "metadata": {},
     "output_type": "execute_result"
    }
   ],
   "source": [
    "# This is a simple arithmetic expression to multiply and then add integers.\n",
    "(3*4)+5"
   ]
  },
  {
   "cell_type": "code",
   "execution_count": 10,
   "id": "6255c32c-d5bb-4932-8e9c-951349f21b1a",
   "metadata": {
    "tags": []
   },
   "outputs": [
    {
     "data": {
      "text/plain": [
       "3.3333333333333335"
      ]
     },
     "execution_count": 10,
     "metadata": {},
     "output_type": "execute_result"
    }
   ],
   "source": [
    "# This will convert 200 minutes to hours by dividing by 60\n",
    "200/60 "
   ]
  },
  {
   "cell_type": "markdown",
   "id": "e231362a-6ba8-4ae3-ab0a-fd2997a86150",
   "metadata": {},
   "source": [
    "## Author\n",
    "Luis Bustamante"
   ]
  },
  {
   "cell_type": "code",
   "execution_count": null,
   "id": "c500474d-7298-4eff-bb70-f03c16f30e1a",
   "metadata": {},
   "outputs": [],
   "source": []
  }
 ],
 "metadata": {
  "kernelspec": {
   "display_name": "Python",
   "language": "python",
   "name": "conda-env-python-py"
  },
  "language_info": {
   "codemirror_mode": {
    "name": "ipython",
    "version": 3
   },
   "file_extension": ".py",
   "mimetype": "text/x-python",
   "name": "python",
   "nbconvert_exporter": "python",
   "pygments_lexer": "ipython3",
   "version": "3.7.12"
  }
 },
 "nbformat": 4,
 "nbformat_minor": 5
}
